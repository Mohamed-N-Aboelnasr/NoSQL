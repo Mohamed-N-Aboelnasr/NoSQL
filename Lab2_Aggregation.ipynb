{
 "cells": [
  {
   "cell_type": "markdown",
   "id": "b7c9ef42",
   "metadata": {},
   "source": [
    "<center>\n",
    "    <h1>Mohamed Nasser Aboelnasr</h1>\n",
    "</center>"
   ]
  },
  {
   "cell_type": "code",
   "execution_count": 1,
   "id": "c4ae39ea",
   "metadata": {},
   "outputs": [],
   "source": [
    "from pymongo import MongoClient"
   ]
  },
  {
   "cell_type": "markdown",
   "id": "68300998",
   "metadata": {},
   "source": [
    "# Connecting to MongoDB"
   ]
  },
  {
   "cell_type": "code",
   "execution_count": 2,
   "id": "24956bb9",
   "metadata": {},
   "outputs": [],
   "source": [
    "client = MongoClient(\"mongodb://localhost:27017\")"
   ]
  },
  {
   "cell_type": "markdown",
   "id": "2fc1c7bc",
   "metadata": {},
   "source": [
    "# Helper Functions"
   ]
  },
  {
   "cell_type": "code",
   "execution_count": 3,
   "id": "a1c34376",
   "metadata": {},
   "outputs": [],
   "source": [
    "def print_cursor(cursor):\n",
    "    c = 0\n",
    "    for i in cursor:\n",
    "        print()\n",
    "        print(i)\n",
    "        c += 1\n",
    "    print()\n",
    "    print(\"#Results:\", c)"
   ]
  },
  {
   "cell_type": "markdown",
   "id": "d77acb23",
   "metadata": {},
   "source": [
    "# Dataset 1"
   ]
  },
  {
   "cell_type": "code",
   "execution_count": 4,
   "id": "54a7e1e5",
   "metadata": {},
   "outputs": [],
   "source": [
    "db = client.universities"
   ]
  },
  {
   "cell_type": "code",
   "execution_count": 5,
   "id": "77f88f8c",
   "metadata": {},
   "outputs": [],
   "source": [
    "client.drop_database(\"universities\")"
   ]
  },
  {
   "cell_type": "code",
   "execution_count": 6,
   "id": "0f1ce5f1",
   "metadata": {},
   "outputs": [
    {
     "data": {
      "text/plain": [
       "<pymongo.results.InsertManyResult at 0x7fa896de0980>"
      ]
     },
     "execution_count": 6,
     "metadata": {},
     "output_type": "execute_result"
    }
   ],
   "source": [
    "db.universities.insert_many([\n",
    "{\n",
    "  \"country\" : \"Spain\",\n",
    "  \"city\" : \"Salamanca\",\n",
    "  \"name\" : \"USAL\",\n",
    "  \"location\" : {\n",
    "    \"type\" : \"Point\",\n",
    "    \"coordinates\" : [ -5.6722512,17, 40.9607792 ]\n",
    "  },\n",
    "  \"students\" : [\n",
    "    { \"year\" : 2014, \"number\" : 24774 },\n",
    "    { \"year\" : 2015, \"number\" : 23166 },\n",
    "    { \"year\" : 2016, \"number\" : 21913 },\n",
    "    { \"year\" : 2017, \"number\" : 21715 }\n",
    "  ]\n",
    "},\n",
    "{\n",
    "  \"country\" : \"Spain\",\n",
    "  \"city\" : \"Salamanca\",\n",
    "  \"name\" : \"UPSA\",\n",
    "  \"location\" : {\n",
    "    \"type\" : \"Point\",\n",
    "    \"coordinates\" : [ -5.6691191,17, 40.9631732 ]\n",
    "  },\n",
    "  \"students\" : [\n",
    "    { \"year\" : 2014, \"number\" : 4788 },\n",
    "    { \"year\" : 2015, \"number\" : 4821 },\n",
    "    { \"year\" : 2016, \"number\" : 6550 },\n",
    "    { \"year\" : 2017, \"number\" : 6125 }\n",
    "  ]\n",
    "}\n",
    "])\n",
    "\n",
    "\n",
    "db.courses.insert_many([\n",
    "{\n",
    "  \"university\" : \"USAL\",\n",
    "  \"name\" : \"Computer Science\",\n",
    "  \"level\" : \"Excellent\"\n",
    "},\n",
    "{\n",
    "  \"university\" : \"USAL\",\n",
    "  \"name\" : \"Electronics\",\n",
    "  \"level\" : \"Intermediate\"\n",
    "},\n",
    "{\n",
    "  \"university\" : \"USAL\",\n",
    "  \"name\" : \"Communication\",\n",
    "  \"level\" : \"Excellent\"\n",
    "}\n",
    "])"
   ]
  },
  {
   "cell_type": "markdown",
   "id": "2d435774",
   "metadata": {},
   "source": [
    "# Aggregation stages"
   ]
  },
  {
   "cell_type": "markdown",
   "id": "f44e35ef",
   "metadata": {},
   "source": [
    "## MongoDB `$match`"
   ]
  },
  {
   "cell_type": "code",
   "execution_count": 7,
   "id": "472dfb8f",
   "metadata": {},
   "outputs": [
    {
     "name": "stdout",
     "output_type": "stream",
     "text": [
      "\n",
      "{'_id': ObjectId('61a284c71bf441bcd6424af4'), 'country': 'Spain', 'city': 'Salamanca', 'name': 'USAL', 'location': {'type': 'Point', 'coordinates': [-5.6722512, 17, 40.9607792]}, 'students': [{'year': 2014, 'number': 24774}, {'year': 2015, 'number': 23166}, {'year': 2016, 'number': 21913}, {'year': 2017, 'number': 21715}]}\n",
      "\n",
      "{'_id': ObjectId('61a284c71bf441bcd6424af5'), 'country': 'Spain', 'city': 'Salamanca', 'name': 'UPSA', 'location': {'type': 'Point', 'coordinates': [-5.6691191, 17, 40.9631732]}, 'students': [{'year': 2014, 'number': 4788}, {'year': 2015, 'number': 4821}, {'year': 2016, 'number': 6550}, {'year': 2017, 'number': 6125}]}\n",
      "\n",
      "#Results: 2\n"
     ]
    }
   ],
   "source": [
    "cursor = db.universities.aggregate([\n",
    "  { \"$match\" : { \"country\" : \"Spain\", \"city\" : \"Salamanca\" } }\n",
    "])\n",
    "\n",
    "print_cursor(cursor)"
   ]
  },
  {
   "cell_type": "markdown",
   "id": "f79bafb0",
   "metadata": {},
   "source": [
    "## MongoDB `$project`"
   ]
  },
  {
   "cell_type": "code",
   "execution_count": 8,
   "id": "7e61eadd",
   "metadata": {},
   "outputs": [
    {
     "name": "stdout",
     "output_type": "stream",
     "text": [
      "\n",
      "{'country': 'Spain', 'city': 'Salamanca', 'name': 'USAL'}\n",
      "\n",
      "{'country': 'Spain', 'city': 'Salamanca', 'name': 'UPSA'}\n",
      "\n",
      "#Results: 2\n"
     ]
    }
   ],
   "source": [
    "cursor = db.universities.aggregate([\n",
    "  { \"$project\" : { \"_id\" : 0, \"country\" : 1, \"city\" : 1, \"name\" : 1 } }\n",
    "])\n",
    "\n",
    "print_cursor(cursor)"
   ]
  },
  {
   "cell_type": "markdown",
   "id": "3a39f60c",
   "metadata": {},
   "source": [
    "## MongoDB `$group`"
   ]
  },
  {
   "cell_type": "code",
   "execution_count": 9,
   "id": "4c54d594",
   "metadata": {},
   "outputs": [
    {
     "name": "stdout",
     "output_type": "stream",
     "text": [
      "\n",
      "{'_id': 'USAL', 'totaldocs': 1}\n",
      "\n",
      "{'_id': 'UPSA', 'totaldocs': 1}\n",
      "\n",
      "#Results: 2\n"
     ]
    }
   ],
   "source": [
    "cursor = db.universities.aggregate([\n",
    "  { \"$group\" : { \"_id\" : \"$name\", \"totaldocs\" : { \"$sum\" : 1 } } }\n",
    "])\n",
    "\n",
    "print_cursor(cursor)"
   ]
  },
  {
   "cell_type": "markdown",
   "id": "da12388f",
   "metadata": {},
   "source": [
    "## MongoDB `$out`"
   ]
  },
  {
   "cell_type": "code",
   "execution_count": 10,
   "id": "8cc24ac9",
   "metadata": {},
   "outputs": [
    {
     "name": "stdout",
     "output_type": "stream",
     "text": [
      "\n",
      "{'_id': 'USAL', 'totaldocs': 1}\n",
      "\n",
      "{'_id': 'UPSA', 'totaldocs': 1}\n",
      "\n",
      "#Results: 2\n"
     ]
    }
   ],
   "source": [
    "db.universities.aggregate([\n",
    "  { \"$group\" : { \"_id\" : \"$name\", \"totaldocs\" : { \"$sum\" : 1 } } },\n",
    "  { \"$out\" : \"aggResults\" }\n",
    "])\n",
    "\n",
    "cursor = db.aggResults.find()\n",
    "print_cursor(cursor)"
   ]
  },
  {
   "cell_type": "markdown",
   "id": "1e72bce1",
   "metadata": {},
   "source": [
    "## MongoDB `$unwind`"
   ]
  },
  {
   "cell_type": "code",
   "execution_count": 11,
   "id": "e7fc5213",
   "metadata": {},
   "outputs": [
    {
     "name": "stdout",
     "output_type": "stream",
     "text": [
      "\n",
      "{'_id': ObjectId('61a284c71bf441bcd6424af4'), 'country': 'Spain', 'city': 'Salamanca', 'name': 'USAL', 'location': {'type': 'Point', 'coordinates': [-5.6722512, 17, 40.9607792]}, 'students': {'year': 2014, 'number': 24774}}\n",
      "\n",
      "{'_id': ObjectId('61a284c71bf441bcd6424af4'), 'country': 'Spain', 'city': 'Salamanca', 'name': 'USAL', 'location': {'type': 'Point', 'coordinates': [-5.6722512, 17, 40.9607792]}, 'students': {'year': 2015, 'number': 23166}}\n",
      "\n",
      "{'_id': ObjectId('61a284c71bf441bcd6424af4'), 'country': 'Spain', 'city': 'Salamanca', 'name': 'USAL', 'location': {'type': 'Point', 'coordinates': [-5.6722512, 17, 40.9607792]}, 'students': {'year': 2016, 'number': 21913}}\n",
      "\n",
      "{'_id': ObjectId('61a284c71bf441bcd6424af4'), 'country': 'Spain', 'city': 'Salamanca', 'name': 'USAL', 'location': {'type': 'Point', 'coordinates': [-5.6722512, 17, 40.9607792]}, 'students': {'year': 2017, 'number': 21715}}\n",
      "\n",
      "#Results: 4\n"
     ]
    }
   ],
   "source": [
    "cursor = db.universities.aggregate([\n",
    "  { \"$match\" : { \"name\" : \"USAL\" } },\n",
    "  { \"$unwind\" : \"$students\" }\n",
    "])\n",
    "\n",
    "print_cursor(cursor)"
   ]
  },
  {
   "cell_type": "markdown",
   "id": "dadda19a",
   "metadata": {},
   "source": [
    "## MongoDB `$sort`"
   ]
  },
  {
   "cell_type": "code",
   "execution_count": 12,
   "id": "ba852bef",
   "metadata": {},
   "outputs": [
    {
     "name": "stdout",
     "output_type": "stream",
     "text": [
      "\n",
      "{'students': {'year': 2014, 'number': 24774}}\n",
      "\n",
      "{'students': {'year': 2015, 'number': 23166}}\n",
      "\n",
      "{'students': {'year': 2016, 'number': 21913}}\n",
      "\n",
      "{'students': {'year': 2017, 'number': 21715}}\n",
      "\n",
      "#Results: 4\n"
     ]
    }
   ],
   "source": [
    "cursor = db.universities.aggregate([\n",
    "  { \"$match\" : { \"name\" : \"USAL\" } },\n",
    "  { \"$unwind\" : \"$students\" },\n",
    "  { \"$project\" : { \"_id\" : 0, \"students.year\" : 1, \"students.number\" : 1 } },\n",
    "  { \"$sort\" : { \"students.number\" : -1 } }\n",
    "])\n",
    "\n",
    "print_cursor(cursor)"
   ]
  },
  {
   "cell_type": "markdown",
   "id": "48aeca35",
   "metadata": {},
   "source": [
    "## MongoDB `$limit`"
   ]
  },
  {
   "cell_type": "code",
   "execution_count": 13,
   "id": "e2c030e4",
   "metadata": {},
   "outputs": [
    {
     "name": "stdout",
     "output_type": "stream",
     "text": [
      "\n",
      "{'students': {'year': 2014, 'number': 24774}}\n",
      "\n",
      "{'students': {'year': 2015, 'number': 23166}}\n",
      "\n",
      "#Results: 2\n"
     ]
    }
   ],
   "source": [
    "cursor = db.universities.aggregate([\n",
    "  { \"$match\" : { \"name\" : \"USAL\" } },\n",
    "  { \"$unwind\" : \"$students\" },\n",
    "  { \"$project\" : { \"_id\" : 0, \"students.year\" : 1, \"students.number\" : 1 } },\n",
    "  { \"$sort\" : { \"students.number\" : -1 } },\n",
    "  { \"$limit\" : 2 }\n",
    "])\n",
    "\n",
    "print_cursor(cursor)"
   ]
  },
  {
   "cell_type": "markdown",
   "id": "545b132e",
   "metadata": {},
   "source": [
    "## MongoDB `$addFields`"
   ]
  },
  {
   "cell_type": "code",
   "execution_count": 14,
   "id": "bc7830b1",
   "metadata": {},
   "outputs": [
    {
     "name": "stdout",
     "output_type": "stream",
     "text": [
      "\n",
      "{'_id': ObjectId('61a284c71bf441bcd6424af4'), 'country': 'Spain', 'city': 'Salamanca', 'name': 'USAL', 'location': {'type': 'Point', 'coordinates': [-5.6722512, 17, 40.9607792]}, 'students': [{'year': 2014, 'number': 24774}, {'year': 2015, 'number': 23166}, {'year': 2016, 'number': 21913}, {'year': 2017, 'number': 21715}], 'foundation_year': 1218}\n",
      "\n",
      "#Results: 1\n"
     ]
    }
   ],
   "source": [
    "cursor = db.universities.aggregate([\n",
    "  { \"$match\" : { \"name\" : \"USAL\" } },\n",
    "  { \"$addFields\" : { \"foundation_year\" : 1218 } }\n",
    "])\n",
    "\n",
    "print_cursor(cursor)"
   ]
  },
  {
   "cell_type": "markdown",
   "id": "6165793f",
   "metadata": {},
   "source": [
    "## MongoDB `$count`"
   ]
  },
  {
   "cell_type": "code",
   "execution_count": 15,
   "id": "e243ae6b",
   "metadata": {},
   "outputs": [
    {
     "name": "stdout",
     "output_type": "stream",
     "text": [
      "\n",
      "{'total_documents': 8}\n",
      "\n",
      "#Results: 1\n"
     ]
    }
   ],
   "source": [
    "cursor = db.universities.aggregate([\n",
    "  { \"$unwind\" : \"$students\" },\n",
    "  { \"$count\" : \"total_documents\" }\n",
    "])\n",
    "\n",
    "print_cursor(cursor)"
   ]
  },
  {
   "cell_type": "markdown",
   "id": "30424ab1",
   "metadata": {},
   "source": [
    "## MongoDB `$lookup`"
   ]
  },
  {
   "cell_type": "markdown",
   "id": "5175b633",
   "metadata": {},
   "source": [
    "If you want this query to run fast, you are going to need to index the `name` field in the `universities` collection and the `university` field in the `courses` collection."
   ]
  },
  {
   "cell_type": "code",
   "execution_count": 16,
   "id": "ab65ef7d",
   "metadata": {},
   "outputs": [
    {
     "name": "stdout",
     "output_type": "stream",
     "text": [
      "\n",
      "{'name': 'USAL', 'courses': [{'_id': ObjectId('61a284c71bf441bcd6424af6'), 'university': 'USAL', 'name': 'Computer Science', 'level': 'Excellent'}, {'_id': ObjectId('61a284c71bf441bcd6424af7'), 'university': 'USAL', 'name': 'Electronics', 'level': 'Intermediate'}, {'_id': ObjectId('61a284c71bf441bcd6424af8'), 'university': 'USAL', 'name': 'Communication', 'level': 'Excellent'}]}\n",
      "\n",
      "#Results: 1\n"
     ]
    }
   ],
   "source": [
    "cursor = db.universities.aggregate([\n",
    "  { \"$match\" : { \"name\" : \"USAL\" } },\n",
    "  { \"$project\" : { \"_id\" : 0, \"name\" : 1 } },\n",
    "  { \"$lookup\" : {\n",
    "      \"from\" : \"courses\",\n",
    "      \"localField\" : \"name\",\n",
    "      \"foreignField\" : \"university\",\n",
    "      \"as\" : \"courses\"\n",
    "  } }\n",
    "])\n",
    "\n",
    "print_cursor(cursor)"
   ]
  },
  {
   "cell_type": "markdown",
   "id": "fbb54da9",
   "metadata": {},
   "source": [
    "## MongoDB `$sortByCount`"
   ]
  },
  {
   "cell_type": "markdown",
   "id": "78961440",
   "metadata": {},
   "source": [
    "This stage is a shortcut for grouping, counting and then sorting in descending order the number of different values in a field."
   ]
  },
  {
   "cell_type": "code",
   "execution_count": 17,
   "id": "1457981f",
   "metadata": {},
   "outputs": [
    {
     "name": "stdout",
     "output_type": "stream",
     "text": [
      "\n",
      "{'_id': 'Excellent', 'count': 2}\n",
      "\n",
      "{'_id': 'Intermediate', 'count': 1}\n",
      "\n",
      "#Results: 2\n"
     ]
    }
   ],
   "source": [
    "cursor = db.courses.aggregate([\n",
    "  { \"$sortByCount\" : \"$level\" }\n",
    "])\n",
    "\n",
    "print_cursor(cursor)"
   ]
  },
  {
   "cell_type": "markdown",
   "id": "815a2d20",
   "metadata": {},
   "source": [
    "## MongoDB `$facet`"
   ]
  },
  {
   "cell_type": "markdown",
   "id": "ada3ad12",
   "metadata": {},
   "source": [
    "Sometimes when creating a report on data, you find that you need to do the same preliminary processing for a number of reports, and you are faced with having to create and maintain an intermediate collection."
   ]
  },
  {
   "cell_type": "code",
   "execution_count": 18,
   "id": "55c4e6d8",
   "metadata": {
    "scrolled": true
   },
   "outputs": [
    {
     "name": "stdout",
     "output_type": "stream",
     "text": [
      "\n",
      "{'_id': ObjectId('61a284c71bf441bcd6424af4'), 'country': 'Spain', 'city': 'Salamanca', 'name': 'USAL', 'location': {'type': 'Point', 'coordinates': [-5.6722512, 17, 40.9607792]}, 'students': [{'year': 2014, 'number': 24774}, {'year': 2015, 'number': 23166}, {'year': 2016, 'number': 21913}, {'year': 2017, 'number': 21715}], 'courses': [{'_id': ObjectId('61a284c71bf441bcd6424af6'), 'university': 'USAL', 'name': 'Computer Science', 'level': 'Excellent'}, {'_id': ObjectId('61a284c71bf441bcd6424af7'), 'university': 'USAL', 'name': 'Electronics', 'level': 'Intermediate'}, {'_id': ObjectId('61a284c71bf441bcd6424af8'), 'university': 'USAL', 'name': 'Communication', 'level': 'Excellent'}]}\n",
      "\n",
      "#Results: 1\n"
     ]
    }
   ],
   "source": [
    "cursor = db.universities.aggregate([\n",
    "  { \"$match\" : { \"name\" : \"USAL\" } },\n",
    "  { \"$lookup\" : {\n",
    "      \"from\" : \"courses\",\n",
    "      \"localField\" : \"name\",\n",
    "      \"foreignField\" : \"university\",\n",
    "      \"as\" : \"courses\"\n",
    "  } }\n",
    "])\n",
    "\n",
    "print_cursor(cursor)"
   ]
  },
  {
   "cell_type": "code",
   "execution_count": 19,
   "id": "a5553e66",
   "metadata": {
    "scrolled": true
   },
   "outputs": [
    {
     "name": "stdout",
     "output_type": "stream",
     "text": [
      "\n",
      "{'_id': 'Excellent', 'count': 2}\n",
      "\n",
      "{'_id': 'Intermediate', 'count': 1}\n",
      "\n",
      "#Results: 2\n"
     ]
    }
   ],
   "source": [
    "cursor = db.universities.aggregate([\n",
    "  { \"$match\" : { \"name\" : \"USAL\" } },\n",
    "  { \"$lookup\" : {\n",
    "      \"from\" : \"courses\",\n",
    "      \"localField\" : \"name\",\n",
    "      \"foreignField\" : \"university\",\n",
    "      \"as\" : \"courses\"\n",
    "  } },\n",
    "         { \"$unwind\" : \"$courses\" },\n",
    "         { \"$sortByCount\" : \"$courses.level\" }\n",
    "])\n",
    "\n",
    "print_cursor(cursor)"
   ]
  },
  {
   "cell_type": "code",
   "execution_count": 20,
   "id": "b38a9c9c",
   "metadata": {
    "scrolled": true
   },
   "outputs": [
    {
     "name": "stdout",
     "output_type": "stream",
     "text": [
      "\n",
      "{'students': {'year': 2017, 'number': 21715}}\n",
      "\n",
      "#Results: 1\n"
     ]
    }
   ],
   "source": [
    "cursor = db.universities.aggregate([\n",
    "  { \"$match\" : { \"name\" : \"USAL\" } },\n",
    "  { \"$lookup\" : {\n",
    "      \"from\" : \"courses\",\n",
    "      \"localField\" : \"name\",\n",
    "      \"foreignField\" : \"university\",\n",
    "      \"as\" : \"courses\"\n",
    "  } },\n",
    "         { \"$unwind\" : \"$students\" },\n",
    "         { \"$project\" : { \"_id\" : 0, \"students\" : 1 } },\n",
    "         { \"$sort\" : { \"students.number\" : 1 } },\n",
    "         { \"$limit\" : 1 }\n",
    "])\n",
    "\n",
    "print_cursor(cursor)"
   ]
  },
  {
   "cell_type": "code",
   "execution_count": 21,
   "id": "729c1f98",
   "metadata": {
    "scrolled": false
   },
   "outputs": [
    {
     "name": "stdout",
     "output_type": "stream",
     "text": [
      "\n",
      "{'countingLevels': [{'_id': 'Excellent', 'count': 2}, {'_id': 'Intermediate', 'count': 1}], 'yearWithLessStudents': [{'students': {'year': 2017, 'number': 21715}}]}\n",
      "\n",
      "#Results: 1\n"
     ]
    }
   ],
   "source": [
    "cursor = db.universities.aggregate([\n",
    "  { \"$match\" : { \"name\" : \"USAL\" } },\n",
    "  { \"$lookup\" : {\n",
    "      \"from\" : \"courses\",\n",
    "      \"localField\" : \"name\",\n",
    "      \"foreignField\" : \"university\",\n",
    "      \"as\" : \"courses\"\n",
    "  } },\n",
    "  { \"$facet\" : {\n",
    "      \"countingLevels\" :\n",
    "      [\n",
    "         { \"$unwind\" : \"$courses\" },\n",
    "         { \"$sortByCount\" : \"$courses.level\" }\n",
    "      ],\n",
    "      \"yearWithLessStudents\" :\n",
    "      [\n",
    "         { \"$unwind\" : \"$students\" },\n",
    "         { \"$project\" : { \"_id\" : 0, \"students\" : 1 } },\n",
    "         { \"$sort\" : { \"students.number\" : 1 } },\n",
    "         { \"$limit\" : 1 }\n",
    "      ]\n",
    "  } }\n",
    "])\n",
    "\n",
    "print_cursor(cursor)"
   ]
  },
  {
   "cell_type": "markdown",
   "id": "d67309f7",
   "metadata": {},
   "source": [
    "---"
   ]
  },
  {
   "cell_type": "markdown",
   "id": "8cd7675f",
   "metadata": {},
   "source": [
    "# Dataset 2"
   ]
  },
  {
   "cell_type": "markdown",
   "id": "c4af93ad",
   "metadata": {},
   "source": [
    "Use `mongoimport` to load http://media.mongodb.org/zips.json into your mongod instance.\n"
   ]
  },
  {
   "cell_type": "code",
   "execution_count": 22,
   "id": "1c614f75",
   "metadata": {},
   "outputs": [],
   "source": [
    "db = client.zips"
   ]
  },
  {
   "cell_type": "code",
   "execution_count": 23,
   "id": "19717248",
   "metadata": {},
   "outputs": [
    {
     "name": "stdout",
     "output_type": "stream",
     "text": [
      "\n",
      "{'_id': '47906', 'city': 'WEST LAFAYETTE', 'loc': [-86.923661, 40.444025], 'pop': 54702, 'state': 'IN'}\n",
      "\n",
      "#Results: 1\n"
     ]
    }
   ],
   "source": [
    "cursor = db.zipcodes.find({\"_id\" : \"47906\"})\n",
    "print_cursor(cursor)"
   ]
  },
  {
   "cell_type": "markdown",
   "id": "455117ae",
   "metadata": {},
   "source": [
    "# Aggregation Pipeline"
   ]
  },
  {
   "cell_type": "markdown",
   "id": "cad23076",
   "metadata": {},
   "source": [
    "### Return States with Populations above 10 Million"
   ]
  },
  {
   "cell_type": "markdown",
   "id": "28983a18",
   "metadata": {},
   "source": [
    "`SELECT state, SUM(pop) AS totalPop\n",
    "FROM zipcodes\n",
    "GROUP BY state\n",
    "HAVING totalPop >= (10*1000*1000)`"
   ]
  },
  {
   "cell_type": "code",
   "execution_count": 24,
   "id": "62eba623",
   "metadata": {},
   "outputs": [
    {
     "name": "stdout",
     "output_type": "stream",
     "text": [
      "\n",
      "{'_id': 'PA', 'totalPop': 11881643}\n",
      "\n",
      "{'_id': 'FL', 'totalPop': 12686644}\n",
      "\n",
      "{'_id': 'TX', 'totalPop': 16984601}\n",
      "\n",
      "{'_id': 'OH', 'totalPop': 10846517}\n",
      "\n",
      "{'_id': 'IL', 'totalPop': 11427576}\n",
      "\n",
      "{'_id': 'CA', 'totalPop': 29754890}\n",
      "\n",
      "{'_id': 'NY', 'totalPop': 17990402}\n",
      "\n",
      "#Results: 7\n"
     ]
    }
   ],
   "source": [
    "cursor = db.zipcodes.aggregate( [\n",
    "   { \"$group\": { \"_id\": \"$state\", \"totalPop\": { \"$sum\": \"$pop\" } } },\n",
    "   { \"$match\": { \"totalPop\": { \"$gte\": 10*1000*1000 } } }\n",
    "] )\n",
    "\n",
    "print_cursor(cursor)"
   ]
  },
  {
   "cell_type": "markdown",
   "id": "be01bdf2",
   "metadata": {},
   "source": [
    "### Return Average City Population by State"
   ]
  },
  {
   "cell_type": "code",
   "execution_count": 25,
   "id": "1e5b402f",
   "metadata": {},
   "outputs": [
    {
     "name": "stdout",
     "output_type": "stream",
     "text": [
      "\n",
      "{'_id': 'MA', 'avgCityPop': 14855.37037037037}\n",
      "\n",
      "{'_id': 'CO', 'avgCityPop': 9981.075757575758}\n",
      "\n",
      "{'_id': 'AZ', 'avgCityPop': 20591.16853932584}\n",
      "\n",
      "{'_id': 'MD', 'avgCityPop': 12615.775725593667}\n",
      "\n",
      "{'_id': 'ID', 'avgCityPop': 4320.811158798283}\n",
      "\n",
      "{'_id': 'CA', 'avgCityPop': 27756.42723880597}\n",
      "\n",
      "{'_id': 'NJ', 'avgCityPop': 15775.89387755102}\n",
      "\n",
      "{'_id': 'NY', 'avgCityPop': 13131.680291970803}\n",
      "\n",
      "{'_id': 'WV', 'avgCityPop': 2771.4775888717154}\n",
      "\n",
      "{'_id': 'TX', 'avgCityPop': 13775.02108678021}\n",
      "\n",
      "{'_id': 'NE', 'avgCityPop': 3034.882692307692}\n",
      "\n",
      "{'_id': 'CT', 'avgCityPop': 14674.625}\n",
      "\n",
      "{'_id': 'WY', 'avgCityPop': 3384.5373134328356}\n",
      "\n",
      "{'_id': 'ME', 'avgCityPop': 3006.4901960784314}\n",
      "\n",
      "{'_id': 'MO', 'avgCityPop': 5672.195338512764}\n",
      "\n",
      "{'_id': 'DC', 'avgCityPop': 303450.0}\n",
      "\n",
      "{'_id': 'RI', 'avgCityPop': 19292.653846153848}\n",
      "\n",
      "{'_id': 'MI', 'avgCityPop': 12087.512353706112}\n",
      "\n",
      "{'_id': 'OH', 'avgCityPop': 12700.839578454332}\n",
      "\n",
      "{'_id': 'SC', 'avgCityPop': 11139.626198083068}\n",
      "\n",
      "{'_id': 'WI', 'avgCityPop': 7323.00748502994}\n",
      "\n",
      "{'_id': 'UT', 'avgCityPop': 9518.508287292818}\n",
      "\n",
      "{'_id': 'IL', 'avgCityPop': 9954.334494773519}\n",
      "\n",
      "{'_id': 'KY', 'avgCityPop': 4767.164721141375}\n",
      "\n",
      "{'_id': 'TN', 'avgCityPop': 9656.350495049504}\n",
      "\n",
      "{'_id': 'WA', 'avgCityPop': 12258.670025188916}\n",
      "\n",
      "{'_id': 'GA', 'avgCityPop': 11547.62210338681}\n",
      "\n",
      "{'_id': 'KS', 'avgCityPop': 3819.884259259259}\n",
      "\n",
      "{'_id': 'HI', 'avgCityPop': 15831.842857142858}\n",
      "\n",
      "{'_id': 'AL', 'avgCityPop': 7907.2152641878665}\n",
      "\n",
      "{'_id': 'MS', 'avgCityPop': 7524.023391812865}\n",
      "\n",
      "{'_id': 'DE', 'avgCityPop': 14481.91304347826}\n",
      "\n",
      "{'_id': 'IA', 'avgCityPop': 3123.0821147356583}\n",
      "\n",
      "{'_id': 'ND', 'avgCityPop': 1645.0309278350514}\n",
      "\n",
      "{'_id': 'MT', 'avgCityPop': 2593.987012987013}\n",
      "\n",
      "{'_id': 'IN', 'avgCityPop': 9271.130434782608}\n",
      "\n",
      "{'_id': 'AK', 'avgCityPop': 2976.4918032786886}\n",
      "\n",
      "{'_id': 'AR', 'avgCityPop': 4175.355239786856}\n",
      "\n",
      "{'_id': 'LA', 'avgCityPop': 10465.496277915632}\n",
      "\n",
      "{'_id': 'OR', 'avgCityPop': 8262.561046511628}\n",
      "\n",
      "{'_id': 'NH', 'avgCityPop': 5232.320754716981}\n",
      "\n",
      "{'_id': 'FL', 'avgCityPop': 27400.958963282937}\n",
      "\n",
      "{'_id': 'OK', 'avgCityPop': 6155.743639921722}\n",
      "\n",
      "{'_id': 'PA', 'avgCityPop': 8679.067202337472}\n",
      "\n",
      "{'_id': 'NV', 'avgCityPop': 18209.590909090908}\n",
      "\n",
      "{'_id': 'NM', 'avgCityPop': 5872.360465116279}\n",
      "\n",
      "{'_id': 'MN', 'avgCityPop': 5372.21375921376}\n",
      "\n",
      "{'_id': 'VA', 'avgCityPop': 8526.177931034483}\n",
      "\n",
      "{'_id': 'NC', 'avgCityPop': 10622.815705128205}\n",
      "\n",
      "{'_id': 'VT', 'avgCityPop': 2315.8765432098767}\n",
      "\n",
      "{'_id': 'SD', 'avgCityPop': 1839.6746031746031}\n",
      "\n",
      "#Results: 51\n"
     ]
    }
   ],
   "source": [
    "cursor = db.zipcodes.aggregate( [\n",
    "   { \"$group\": { \"_id\": { \"state\": \"$state\", \"city\": \"$city\" }, \"pop\": { \"$sum\": \"$pop\" } } },\n",
    "   { \"$group\": { \"_id\": \"$_id.state\", \"avgCityPop\": { \"$avg\": \"$pop\" } } }\n",
    "] )\n",
    "\n",
    "print_cursor(cursor)"
   ]
  },
  {
   "cell_type": "markdown",
   "id": "6fbb95ad",
   "metadata": {},
   "source": [
    "### Return Largest and Smallest Cities by State"
   ]
  },
  {
   "cell_type": "code",
   "execution_count": 26,
   "id": "193de23e",
   "metadata": {},
   "outputs": [
    {
     "name": "stdout",
     "output_type": "stream",
     "text": [
      "\n",
      "{'biggestCity': {'name': 'DES MOINES', 'pop': 148155}, 'smallestCity': {'name': 'DOUDS', 'pop': 15}, 'state': 'IA'}\n",
      "\n",
      "{'biggestCity': {'name': 'COLUMBIA', 'pop': 269521}, 'smallestCity': {'name': 'QUINBY', 'pop': 0}, 'state': 'SC'}\n",
      "\n",
      "{'biggestCity': {'name': 'CLEVELAND', 'pop': 536759}, 'smallestCity': {'name': 'ISLE SAINT GEORG', 'pop': 38}, 'state': 'OH'}\n",
      "\n",
      "{'biggestCity': {'name': 'DETROIT', 'pop': 963243}, 'smallestCity': {'name': 'LELAND', 'pop': 0}, 'state': 'MI'}\n",
      "\n",
      "{'biggestCity': {'name': 'CRANSTON', 'pop': 176404}, 'smallestCity': {'name': 'CLAYVILLE', 'pop': 45}, 'state': 'RI'}\n",
      "\n",
      "{'biggestCity': {'name': 'WASHINGTON', 'pop': 606879}, 'smallestCity': {'name': 'PENTAGON', 'pop': 21}, 'state': 'DC'}\n",
      "\n",
      "{'biggestCity': {'name': 'LOUISVILLE', 'pop': 288058}, 'smallestCity': {'name': 'TATEVILLE', 'pop': 0}, 'state': 'KY'}\n",
      "\n",
      "{'biggestCity': {'name': 'CHICAGO', 'pop': 2452177}, 'smallestCity': {'name': 'ANCONA', 'pop': 38}, 'state': 'IL'}\n",
      "\n",
      "{'biggestCity': {'name': 'SALT LAKE CITY', 'pop': 186346}, 'smallestCity': {'name': 'MODENA', 'pop': 9}, 'state': 'UT'}\n",
      "\n",
      "{'biggestCity': {'name': 'MILWAUKEE', 'pop': 597324}, 'smallestCity': {'name': 'CLAM LAKE', 'pop': 2}, 'state': 'WI'}\n",
      "\n",
      "{'biggestCity': {'name': 'LOS ANGELES', 'pop': 2102295}, 'smallestCity': {'name': 'TWIN BRIDGES', 'pop': 0}, 'state': 'CA'}\n",
      "\n",
      "{'biggestCity': {'name': 'NEWARK', 'pop': 275572}, 'smallestCity': {'name': 'IMLAYSTOWN', 'pop': 17}, 'state': 'NJ'}\n",
      "\n",
      "{'biggestCity': {'name': 'BALTIMORE', 'pop': 733081}, 'smallestCity': {'name': 'ANNAPOLIS JUNCTI', 'pop': 32}, 'state': 'MD'}\n",
      "\n",
      "{'biggestCity': {'name': 'BOISE', 'pop': 165522}, 'smallestCity': {'name': 'KEUTERVILLE', 'pop': 0}, 'state': 'ID'}\n",
      "\n",
      "{'biggestCity': {'name': 'DENVER', 'pop': 451182}, 'smallestCity': {'name': 'CHEYENNE MTN AFB', 'pop': 0}, 'state': 'CO'}\n",
      "\n",
      "{'biggestCity': {'name': 'WORCESTER', 'pop': 169856}, 'smallestCity': {'name': 'BUCKLAND', 'pop': 16}, 'state': 'MA'}\n",
      "\n",
      "{'biggestCity': {'name': 'PORTLAND', 'pop': 63268}, 'smallestCity': {'name': 'BUSTINS ISLAND', 'pop': 0}, 'state': 'ME'}\n",
      "\n",
      "{'biggestCity': {'name': 'SAINT LOUIS', 'pop': 397802}, 'smallestCity': {'name': 'BENDAVIS', 'pop': 44}, 'state': 'MO'}\n",
      "\n",
      "{'biggestCity': {'name': 'BROOKLYN', 'pop': 2300504}, 'smallestCity': {'name': 'CHILDWOLD', 'pop': 0}, 'state': 'NY'}\n",
      "\n",
      "{'biggestCity': {'name': 'HOUSTON', 'pop': 2095918}, 'smallestCity': {'name': 'ECLETO', 'pop': 0}, 'state': 'TX'}\n",
      "\n",
      "{'biggestCity': {'name': 'HUNTINGTON', 'pop': 75343}, 'smallestCity': {'name': 'MOUNT CARBON', 'pop': 0}, 'state': 'WV'}\n",
      "\n",
      "{'biggestCity': {'name': 'ALBUQUERQUE', 'pop': 449584}, 'smallestCity': {'name': 'ALGODONES', 'pop': 0}, 'state': 'NM'}\n",
      "\n",
      "{'biggestCity': {'name': 'PHILADELPHIA', 'pop': 1610956}, 'smallestCity': {'name': 'HAMILTON', 'pop': 0}, 'state': 'PA'}\n",
      "\n",
      "{'biggestCity': {'name': 'OMAHA', 'pop': 358930}, 'smallestCity': {'name': 'LAKESIDE', 'pop': 5}, 'state': 'NE'}\n",
      "\n",
      "{'biggestCity': {'name': 'CHARLOTTE', 'pop': 465833}, 'smallestCity': {'name': 'GLOUCESTER', 'pop': 0}, 'state': 'NC'}\n",
      "\n",
      "{'biggestCity': {'name': 'PORTLAND', 'pop': 518543}, 'smallestCity': {'name': 'ODELL', 'pop': 0}, 'state': 'OR'}\n",
      "\n",
      "{'biggestCity': {'name': 'VIRGINIA BEACH', 'pop': 385080}, 'smallestCity': {'name': 'WALLOPS ISLAND', 'pop': 0}, 'state': 'VA'}\n",
      "\n",
      "{'biggestCity': {'name': 'MIAMI', 'pop': 825232}, 'smallestCity': {'name': 'CECIL FIELD NAS', 'pop': 0}, 'state': 'FL'}\n",
      "\n",
      "{'biggestCity': {'name': 'NEW ORLEANS', 'pop': 496937}, 'smallestCity': {'name': 'FORDOCHE', 'pop': 0}, 'state': 'LA'}\n",
      "\n",
      "{'biggestCity': {'name': 'LITTLE ROCK', 'pop': 192895}, 'smallestCity': {'name': 'TOMATO', 'pop': 0}, 'state': 'AR'}\n",
      "\n",
      "{'biggestCity': {'name': 'PHOENIX', 'pop': 890853}, 'smallestCity': {'name': 'HUALAPAI', 'pop': 2}, 'state': 'AZ'}\n",
      "\n",
      "{'biggestCity': {'name': 'CHEYENNE', 'pop': 70185}, 'smallestCity': {'name': 'LOST SPRINGS', 'pop': 6}, 'state': 'WY'}\n",
      "\n",
      "{'biggestCity': {'name': 'BURLINGTON', 'pop': 39127}, 'smallestCity': {'name': 'UNIV OF VERMONT', 'pop': 0}, 'state': 'VT'}\n",
      "\n",
      "{'biggestCity': {'name': 'TULSA', 'pop': 389072}, 'smallestCity': {'name': 'SOUTHARD', 'pop': 8}, 'state': 'OK'}\n",
      "\n",
      "{'biggestCity': {'name': 'LAS VEGAS', 'pop': 597557}, 'smallestCity': {'name': 'TUSCARORA', 'pop': 1}, 'state': 'NV'}\n",
      "\n",
      "{'biggestCity': {'name': 'SIOUX FALLS', 'pop': 102046}, 'smallestCity': {'name': 'ZEONA', 'pop': 8}, 'state': 'SD'}\n",
      "\n",
      "{'biggestCity': {'name': 'MINNEAPOLIS', 'pop': 344719}, 'smallestCity': {'name': 'JOHNSON', 'pop': 12}, 'state': 'MN'}\n",
      "\n",
      "{'biggestCity': {'name': 'BRIDGEPORT', 'pop': 141638}, 'smallestCity': {'name': 'EAST KILLINGLY', 'pop': 25}, 'state': 'CT'}\n",
      "\n",
      "{'biggestCity': {'name': 'WICHITA', 'pop': 295115}, 'smallestCity': {'name': 'ARNOLD', 'pop': 0}, 'state': 'KS'}\n",
      "\n",
      "{'biggestCity': {'name': 'BIRMINGHAM', 'pop': 242606}, 'smallestCity': {'name': 'ALLEN', 'pop': 0}, 'state': 'AL'}\n",
      "\n",
      "{'biggestCity': {'name': 'ATLANTA', 'pop': 609591}, 'smallestCity': {'name': 'FORT STEWART', 'pop': 0}, 'state': 'GA'}\n",
      "\n",
      "{'biggestCity': {'name': 'HONOLULU', 'pop': 396643}, 'smallestCity': {'name': 'NINOLE', 'pop': 0}, 'state': 'HI'}\n",
      "\n",
      "{'biggestCity': {'name': 'MANCHESTER', 'pop': 106452}, 'smallestCity': {'name': 'WEST NOTTINGHAM', 'pop': 27}, 'state': 'NH'}\n",
      "\n",
      "{'biggestCity': {'name': 'MEMPHIS', 'pop': 632837}, 'smallestCity': {'name': 'ALLRED', 'pop': 2}, 'state': 'TN'}\n",
      "\n",
      "{'biggestCity': {'name': 'SEATTLE', 'pop': 520096}, 'smallestCity': {'name': 'BENGE', 'pop': 2}, 'state': 'WA'}\n",
      "\n",
      "{'biggestCity': {'name': 'JACKSON', 'pop': 204788}, 'smallestCity': {'name': 'CHUNKY', 'pop': 79}, 'state': 'MS'}\n",
      "\n",
      "{'biggestCity': {'name': 'GRAND FORKS', 'pop': 59527}, 'smallestCity': {'name': 'TROTTERS', 'pop': 12}, 'state': 'ND'}\n",
      "\n",
      "{'biggestCity': {'name': 'ANCHORAGE', 'pop': 183987}, 'smallestCity': {'name': 'GRAYLING', 'pop': 0}, 'state': 'AK'}\n",
      "\n",
      "{'biggestCity': {'name': 'BILLINGS', 'pop': 78805}, 'smallestCity': {'name': 'MOSBY', 'pop': 7}, 'state': 'MT'}\n",
      "\n",
      "{'biggestCity': {'name': 'NEWARK', 'pop': 111674}, 'smallestCity': {'name': 'BETHEL', 'pop': 108}, 'state': 'DE'}\n",
      "\n",
      "{'biggestCity': {'name': 'INDIANAPOLIS', 'pop': 348868}, 'smallestCity': {'name': 'WESTPOINT', 'pop': 145}, 'state': 'IN'}\n",
      "\n",
      "#Results: 51\n"
     ]
    }
   ],
   "source": [
    "cursor = db.zipcodes.aggregate( [\n",
    "   { \"$group\":\n",
    "      {\n",
    "        \"_id\": { \"state\": \"$state\", \"city\": \"$city\" },\n",
    "        \"pop\": { \"$sum\": \"$pop\" }\n",
    "      }\n",
    "   },\n",
    "   { \"$sort\": { \"pop\": 1 } },\n",
    "   { \"$group\":\n",
    "      {\n",
    "        \"_id\" : \"$_id.state\",\n",
    "        \"biggestCity\":  { \"$last\": \"$_id.city\" },\n",
    "        \"biggestPop\":   { \"$last\": \"$pop\" },\n",
    "        \"smallestCity\": { \"$first\": \"$_id.city\" },\n",
    "        \"smallestPop\":  { \"$first\": \"$pop\" }\n",
    "      }\n",
    "   },\n",
    "  { \"$project\":\n",
    "    { \"_id\": 0,\n",
    "      \"state\": \"$_id\",\n",
    "      \"biggestCity\":  { \"name\": \"$biggestCity\",  \"pop\": \"$biggestPop\" },\n",
    "      \"smallestCity\": { \"name\": \"$smallestCity\", \"pop\": \"$smallestPop\" }\n",
    "    }\n",
    "  }\n",
    "] )\n",
    "\n",
    "print_cursor(cursor)"
   ]
  },
  {
   "cell_type": "markdown",
   "id": "b0e98d48",
   "metadata": {},
   "source": [
    "---"
   ]
  }
 ],
 "metadata": {
  "kernelspec": {
   "display_name": "Python 3",
   "language": "python",
   "name": "python3"
  },
  "language_info": {
   "codemirror_mode": {
    "name": "ipython",
    "version": 3
   },
   "file_extension": ".py",
   "mimetype": "text/x-python",
   "name": "python",
   "nbconvert_exporter": "python",
   "pygments_lexer": "ipython3",
   "version": "3.8.8"
  }
 },
 "nbformat": 4,
 "nbformat_minor": 5
}
